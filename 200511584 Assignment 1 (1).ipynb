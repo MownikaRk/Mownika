{
 "cells": [
  {
   "cell_type": "code",
   "execution_count": null,
   "id": "cf0ad782",
   "metadata": {},
   "outputs": [],
   "source": [
    "QUESTION 1"
   ]
  },
  {
   "cell_type": "code",
   "execution_count": 5,
   "id": "98f99b2a",
   "metadata": {},
   "outputs": [
    {
     "name": "stdout",
     "output_type": "stream",
     "text": [
      "<class 'int'>\n",
      "<class 'float'>\n",
      "<class 'float'>\n",
      "<class 'str'>\n",
      "<class 'int'>\n",
      "<class 'str'>\n",
      "<class 'str'>\n",
      "<class 'float'>\n",
      "<class 'int'>\n",
      "<class 'set'>\n",
      "<class 'bool'>\n"
     ]
    }
   ],
   "source": [
    "\n",
    "5\n",
    "5.0\n",
    "5.1\n",
    "'5'\n",
    "5*2\n",
    "'5' * 2\n",
    "'5' + '2'\n",
    "5 / 2\n",
    "5 % 2\n",
    "{5, 2, 1}\n",
    "5 == 3\n",
    "print (type(5))\n",
    "print (type(5.0))\n",
    "print (type(5.1))\n",
    "print (type('5'))\n",
    "print (type(5*2))\n",
    "print (type('5' * 2))\n",
    "print (type('5' + '2'))\n",
    "print (type(5 / 2))\n",
    "print (type(5 % 2))\n",
    "print (type({5, 2, 1}))\n",
    "print (type(5 == 3))"
   ]
  },
  {
   "cell_type": "code",
   "execution_count": null,
   "id": "f1b8ba6d",
   "metadata": {},
   "outputs": [],
   "source": [
    "QUESTION 2"
   ]
  },
  {
   "cell_type": "code",
   "execution_count": 6,
   "id": "993dea18",
   "metadata": {},
   "outputs": [
    {
     "name": "stdout",
     "output_type": "stream",
     "text": [
      "34\n"
     ]
    }
   ],
   "source": [
    "a= 'Supercalifragilisticexpialidocious'\n",
    "print(len(a))"
   ]
  },
  {
   "cell_type": "code",
   "execution_count": 22,
   "id": "2840672a",
   "metadata": {},
   "outputs": [
    {
     "name": "stdout",
     "output_type": "stream",
     "text": [
      " ice not found in Supercalifragilisticexpialidocious\n"
     ]
    }
   ],
   "source": [
    "a= 'Supercalifragilisticexpialidocious'\n",
    "b= 'ice'\n",
    "if (b.find(a) > 0):\n",
    "    print(' ice found in '+a)\n",
    "else:\n",
    "    print(' ice not found in '+a)"
   ]
  },
  {
   "cell_type": "code",
   "execution_count": 25,
   "id": "be549176",
   "metadata": {},
   "outputs": [
    {
     "name": "stdout",
     "output_type": "stream",
     "text": [
      "Bababadalgharaghtakamminarronnkonn  Supercalifragilisticexpialidociousare the longest words with 34letters\n"
     ]
    }
   ],
   "source": [
    "a= 'Supercalifragilisticexpialidocious'\n",
    "b= 'Honorificabilitudinitatibus'\n",
    "c= 'Bababadalgharaghtakamminarronnkonn'\n",
    "d= [len(c),len(b),len(a)]\n",
    "e= max(d)\n",
    "if (e==len(c)):\n",
    "    f=c\n",
    "else:\n",
    "    f=''\n",
    "if (e==len(b)):\n",
    "    g=b\n",
    "else:\n",
    "    g=''\n",
    "if (e==len(a)):\n",
    "    h=a\n",
    "else:\n",
    "    h=\"\"\n",
    "print(f,g,h+ \"are the longest words with \" + str(e) + \"letters\")"
   ]
  },
  {
   "cell_type": "code",
   "execution_count": 28,
   "id": "29c78738",
   "metadata": {},
   "outputs": [
    {
     "name": "stdout",
     "output_type": "stream",
     "text": [
      "Bartokcomes first in dictionary, Buxtehude comes at last.\n"
     ]
    }
   ],
   "source": [
    "a= ['Berlioz', 'Borodin', 'Brian', 'Bartok', 'Bellini', 'Buxtehude', 'Bernstein']\n",
    "print(min(a) + 'comes first in dictionary, ' + max(a) + ' comes at last.')\n"
   ]
  },
  {
   "cell_type": "markdown",
   "id": "f3db0df4",
   "metadata": {},
   "source": [
    "QUESTION 3"
   ]
  },
  {
   "cell_type": "code",
   "execution_count": 42,
   "id": "cb7f531c",
   "metadata": {},
   "outputs": [
    {
     "name": "stdout",
     "output_type": "stream",
     "text": [
      "Enter the value of SideA2\n",
      "Enter the value of SideB2\n",
      "Enter the value of SideC2\n",
      "TriangleArea(2,2,2) is1.7320508075688772\n"
     ]
    }
   ],
   "source": [
    "import math\n",
    "A=int(input(\"Enter the value of SideA\"))\n",
    "B=int(input(\"Enter the value of SideB\"))\n",
    "C=int(input(\"Enter the value of SideC\"))\n",
    "S=(A+B+C)/2\n",
    "TriangleArea= math.sqrt(Tri*(S-A)*(S-B)*(S-C))\n",
    "print(\"TriangleArea(\"+str(A) + \",\" +str(B) + \",\" +str(C) + \") is\" +str(TriangleArea))\n",
    "            "
   ]
  },
  {
   "cell_type": "code",
   "execution_count": null,
   "id": "b42371dd",
   "metadata": {},
   "outputs": [],
   "source": [
    "QUESTION 4"
   ]
  },
  {
   "cell_type": "markdown",
   "id": "9980856f",
   "metadata": {},
   "source": []
  },
  {
   "cell_type": "code",
   "execution_count": 45,
   "id": "3144491f",
   "metadata": {},
   "outputs": [
    {
     "name": "stdout",
     "output_type": "stream",
     "text": [
      "The Even elements are:[42, 56, 32]\n",
      "The Odd elements are:[25, 47]\n"
     ]
    }
   ],
   "source": [
    "a= [25,47,42,56,32]\n",
    "b=0\n",
    "c=[]\n",
    "d=[]\n",
    "e= len(a)-1\n",
    "while (b<=e):\n",
    "    if (a[b]%2==0):\n",
    "        #print(a{b})\n",
    "        c.append(a[b])\n",
    "    else:\n",
    "        #print(c)\n",
    "        d.append(a[b])\n",
    "    b+=1\n",
    "print('The Even elements are:' +str(c))\n",
    "print('The Odd elements are:' +str(d))\n",
    "        \n",
    "        "
   ]
  },
  {
   "cell_type": "code",
   "execution_count": null,
   "id": "828a22fd",
   "metadata": {},
   "outputs": [],
   "source": [
    "QUESTION 5"
   ]
  },
  {
   "cell_type": "code",
   "execution_count": 48,
   "id": "fc3742fb",
   "metadata": {},
   "outputs": [
    {
     "name": "stdout",
     "output_type": "stream",
     "text": [
      "False\n"
     ]
    }
   ],
   "source": [
    "def inside(x,y,x1,y1,x2,y2):\n",
    "    if(x > x1 and x < x2 and y > y1 and y < y2):\n",
    "        return True\n",
    "    else:\n",
    "        return False\n",
    "print(inside(-1,-1,0,0,2,3))"
   ]
  },
  {
   "cell_type": "code",
   "execution_count": 49,
   "id": "05971e77",
   "metadata": {},
   "outputs": [
    {
     "name": "stdout",
     "output_type": "stream",
     "text": [
      "True\n"
     ]
    }
   ],
   "source": [
    "def inside(x,y,x1,y1,x2,y2):\n",
    "    if(x > x1 and x < x2 and y > y1 and y < y2):\n",
    "        return True\n",
    "    else:\n",
    "        return False\n",
    "print(inside(1,1,0.5,0.2,1.1,2))"
   ]
  },
  {
   "cell_type": "code",
   "execution_count": null,
   "id": "a55b27ac",
   "metadata": {},
   "outputs": [],
   "source": [
    "QUESTION 6"
   ]
  },
  {
   "cell_type": "code",
   "execution_count": 52,
   "id": "92f42898",
   "metadata": {},
   "outputs": [
    {
     "name": "stdout",
     "output_type": "stream",
     "text": [
      "Enter a word\n",
      "lion\n",
      "The pigLatin of lionis:ionldb\n"
     ]
    }
   ],
   "source": [
    "print ('Enter a word')\n",
    "a= input()\n",
    "b= a.lower()\n",
    "c= b[0]\n",
    "d= ['a','e','i','o','u']\n",
    "e= len (b)\n",
    "f= str(c in d)\n",
    "g= 1\n",
    "h= e-1\n",
    "i=''\n",
    "while (g<=h):\n",
    "    i= i+b[g]\n",
    "    g= g+1\n",
    "h= ''\n",
    "if (f=='True'):\n",
    "    h= e + 'way'\n",
    "else:\n",
    "    h= i + c + 'db'\n",
    "print('The pigLatin of ' + a + 'is:' +h)\n",
    "            "
   ]
  },
  {
   "cell_type": "code",
   "execution_count": null,
   "id": "76da039d",
   "metadata": {},
   "outputs": [],
   "source": [
    "QUESTION 7"
   ]
  },
  {
   "cell_type": "code",
   "execution_count": 59,
   "id": "5eeed90d",
   "metadata": {},
   "outputs": [
    {
     "name": "stdout",
     "output_type": "stream",
     "text": [
      "There are 15 patients of blood group type O\n",
      "There are 13 patients of blood group type AB\n",
      "There are 15 patients of blood group type A\n",
      "There are 1 patients of blood group type B\n"
     ]
    }
   ],
   "source": [
    "def bldcount(bloodgroup):\n",
    "    bloodgroup_list = bloodgroup.split()\n",
    "    test= set(bloodgroup_list)\n",
    "\n",
    "    for x in test:\n",
    "        print(\"There are\", bloodgroup_list.count(x), \"patients of blood group type\", x)\n",
    "if __name__ == \"__main__\":\n",
    "    bloodgroup = ' AB AB B O A A AB O AB A O O A A A O O O AB O A A A A A AB AB A AB O AB O A O O O AB O AB AB AB A A O '\n",
    "    bldcount(bloodgroup)\n"
   ]
  },
  {
   "cell_type": "code",
   "execution_count": null,
   "id": "6646f27f",
   "metadata": {},
   "outputs": [],
   "source": [
    "QUESTION 8"
   ]
  },
  {
   "cell_type": "code",
   "execution_count": 62,
   "id": "15532ed4",
   "metadata": {},
   "outputs": [
    {
     "name": "stdout",
     "output_type": "stream",
     "text": [
      "Enter the amount to convert in USD: 100\n",
      "select option from below\n",
      "A: AUD to USD\n",
      "B: CHF to USD\n",
      "C: CNY to USD\n",
      "D: DKK to USD\n",
      "E: EUR to USD\n",
      "F: GBP to USD\n",
      "G: HKD to USD\n",
      "H: INR to USD\n",
      "I: JPY to USD\n",
      "J: MXN to USD\n",
      "K: MYR to USD\n",
      "L: NOK to USD\n",
      "M: NZD to USD\n",
      "N: PHP to USD\n",
      "O: SEK to USD\n",
      "P: SGD to USD\n",
      "Q: THB to USD\n",
      "Select the type of converstion: E\n",
      "The USD Rate is 107.0\n",
      "Thank you for using converter\n"
     ]
    }
   ],
   "source": [
    "a = int(input(\"Enter the amount to convert in USD: \"))\n",
    "print('select option from below')\n",
    "print (\"A: AUD to USD\")\n",
    "print (\"B: CHF to USD\")\n",
    "print (\"C: CNY to USD\")\n",
    "print (\"D: DKK to USD\")\n",
    "print (\"E: EUR to USD\")\n",
    "print (\"F: GBP to USD\")\n",
    "print (\"G: HKD to USD\")\n",
    "print (\"H: INR to USD\")\n",
    "print (\"I: JPY to USD\")\n",
    "print (\"J: MXN to USD\")\n",
    "print (\"K: MYR to USD\")\n",
    "print (\"L: NOK to USD\")\n",
    "print (\"M: NZD to USD\")\n",
    "print (\"N: PHP to USD\")\n",
    "print (\"O: SEK to USD\")\n",
    "print (\"P: SGD to USD\")\n",
    "print (\"Q: THB to USD\")\n",
    "\n",
    "con = input(\"Select the type of converstion: \")\n",
    "if con == 'A':\n",
    "    print ('The USD Rate is',a*0.72)\n",
    "if con == 'B':\n",
    "    print ('The USD Rate is',a*1.04)\n",
    "if con == 'C':\n",
    "    print ('The USD Rate is',a*0.15)\n",
    "if con == 'D':\n",
    "    print ('The USD Rate is',a*0.14)\n",
    "if con == 'E':\n",
    "    print ('The USD Rate is',a*1.07)\n",
    "if con == 'F':\n",
    "    print ('The USD Rate is',a*1.26)\n",
    "if con == 'G':\n",
    "    print ('The USD Rate is',a*0.13)\n",
    "if con == 'H':\n",
    "    print ('The USD Rate is',a*0.013)\n",
    "if con == 'I':\n",
    "    print ('The USD Rate is',a*0.0079)\n",
    "if con == 'J':\n",
    "    print ('The USD Rate is',a*0.015)\n",
    "if con == 'K':\n",
    "    print ('The USD Rate is',a*0.23)\n",
    "if con == 'L':\n",
    "    print ('The USD Rate is',a*0.11)\n",
    "if con == 'M':\n",
    "    print ('The USD Rate is',a*0.65)\n",
    "if con == 'N':\n",
    "    print ('The USD Rate is',a*0.019)\n",
    "if con == 'O':\n",
    "    print ('The USD Rate is',a*0.10)\n",
    "if con == 'P':\n",
    "    print ('The USD Rate is',a*0.73)\n",
    "if con == 'Q':\n",
    "    print ('The USD Rate is',a*0.029)\n",
    "\n",
    "print(\"Thank you for using converter\")"
   ]
  },
  {
   "cell_type": "code",
   "execution_count": null,
   "id": "83233c51",
   "metadata": {},
   "outputs": [],
   "source": [
    "QUESTION 9"
   ]
  },
  {
   "cell_type": "code",
   "execution_count": 64,
   "id": "e26ff28c",
   "metadata": {},
   "outputs": [
    {
     "ename": "TypeError",
     "evalue": "unsupported operand type(s) for +: 'int' and 'str'",
     "output_type": "error",
     "traceback": [
      "\u001b[1;31m---------------------------------------------------------------------------\u001b[0m",
      "\u001b[1;31mTypeError\u001b[0m                                 Traceback (most recent call last)",
      "Input \u001b[1;32mIn [64]\u001b[0m, in \u001b[0;36m<cell line: 1>\u001b[1;34m()\u001b[0m\n\u001b[1;32m----> 1\u001b[0m test \u001b[38;5;241m=\u001b[39m \u001b[38;5;241;43m6\u001b[39;49m\u001b[43m \u001b[49m\u001b[38;5;241;43m+\u001b[39;49m\u001b[43m \u001b[49m\u001b[38;5;124;43m'\u001b[39;49m\u001b[38;5;124;43ma\u001b[39;49m\u001b[38;5;124;43m'\u001b[39;49m\n\u001b[0;32m      2\u001b[0m \u001b[38;5;28mprint\u001b[39m (test)\n",
      "\u001b[1;31mTypeError\u001b[0m: unsupported operand type(s) for +: 'int' and 'str'"
     ]
    }
   ],
   "source": [
    "test = 6 + 'a'\n",
    "print (test)\n"
   ]
  },
  {
   "cell_type": "code",
   "execution_count": 65,
   "id": "c8af5244",
   "metadata": {},
   "outputs": [
    {
     "ename": "IndexError",
     "evalue": "list index out of range",
     "output_type": "error",
     "traceback": [
      "\u001b[1;31m---------------------------------------------------------------------------\u001b[0m",
      "\u001b[1;31mIndexError\u001b[0m                                Traceback (most recent call last)",
      "Input \u001b[1;32mIn [65]\u001b[0m, in \u001b[0;36m<cell line: 2>\u001b[1;34m()\u001b[0m\n\u001b[0;32m      1\u001b[0m test \u001b[38;5;241m=\u001b[39m [\u001b[38;5;124m'\u001b[39m\u001b[38;5;124mA\u001b[39m\u001b[38;5;124m'\u001b[39m,\u001b[38;5;124m'\u001b[39m\u001b[38;5;124mB\u001b[39m\u001b[38;5;124m'\u001b[39m,\u001b[38;5;124m'\u001b[39m\u001b[38;5;124mC\u001b[39m\u001b[38;5;124m'\u001b[39m,\u001b[38;5;124m'\u001b[39m\u001b[38;5;124mD\u001b[39m\u001b[38;5;124m'\u001b[39m,\u001b[38;5;124m'\u001b[39m\u001b[38;5;124mE\u001b[39m\u001b[38;5;124m'\u001b[39m,\u001b[38;5;124m'\u001b[39m\u001b[38;5;124mF\u001b[39m\u001b[38;5;124m'\u001b[39m,\u001b[38;5;124m'\u001b[39m\u001b[38;5;124mG\u001b[39m\u001b[38;5;124m'\u001b[39m,\u001b[38;5;124m'\u001b[39m\u001b[38;5;124mH\u001b[39m\u001b[38;5;124m'\u001b[39m,\u001b[38;5;124m'\u001b[39m\u001b[38;5;124mI\u001b[39m\u001b[38;5;124m'\u001b[39m,\u001b[38;5;124m'\u001b[39m\u001b[38;5;124mJ\u001b[39m\u001b[38;5;124m'\u001b[39m,\u001b[38;5;124m'\u001b[39m\u001b[38;5;124mK\u001b[39m\u001b[38;5;124m'\u001b[39m,\u001b[38;5;124m'\u001b[39m\u001b[38;5;124mL\u001b[39m\u001b[38;5;124m'\u001b[39m,\u001b[38;5;124m'\u001b[39m\u001b[38;5;124mM\u001b[39m\u001b[38;5;124m'\u001b[39m]\n\u001b[1;32m----> 2\u001b[0m \u001b[38;5;28mprint\u001b[39m (\u001b[43mtest\u001b[49m\u001b[43m[\u001b[49m\u001b[38;5;241;43m13\u001b[39;49m\u001b[43m]\u001b[49m)\n",
      "\u001b[1;31mIndexError\u001b[0m: list index out of range"
     ]
    }
   ],
   "source": [
    "test = ['A','B','C','D','E','F','G','H','I','J','K','L','M']\n",
    "print (test[13])\n"
   ]
  },
  {
   "cell_type": "code",
   "execution_count": 73,
   "id": "957e9004",
   "metadata": {},
   "outputs": [
    {
     "ename": "ValueError",
     "evalue": "math domain error",
     "output_type": "error",
     "traceback": [
      "\u001b[1;31m---------------------------------------------------------------------------\u001b[0m",
      "\u001b[1;31mValueError\u001b[0m                                Traceback (most recent call last)",
      "Input \u001b[1;32mIn [73]\u001b[0m, in \u001b[0;36m<cell line: 2>\u001b[1;34m()\u001b[0m\n\u001b[0;32m      1\u001b[0m \u001b[38;5;28;01mimport\u001b[39;00m \u001b[38;5;21;01mmath\u001b[39;00m\n\u001b[1;32m----> 2\u001b[0m \u001b[43mmath\u001b[49m\u001b[38;5;241;43m.\u001b[39;49m\u001b[43msqrt\u001b[49m\u001b[43m(\u001b[49m\u001b[38;5;241;43m-\u001b[39;49m\u001b[38;5;241;43m1.0\u001b[39;49m\u001b[43m)\u001b[49m\n",
      "\u001b[1;31mValueError\u001b[0m: math domain error"
     ]
    }
   ],
   "source": [
    "import math\n",
    "math.sqrt(-1.0) "
   ]
  },
  {
   "cell_type": "code",
   "execution_count": 67,
   "id": "1e1a3481",
   "metadata": {},
   "outputs": [
    {
     "ename": "NameError",
     "evalue": "name 'z' is not defined",
     "output_type": "error",
     "traceback": [
      "\u001b[1;31m---------------------------------------------------------------------------\u001b[0m",
      "\u001b[1;31mNameError\u001b[0m                                 Traceback (most recent call last)",
      "Input \u001b[1;32mIn [67]\u001b[0m, in \u001b[0;36m<cell line: 1>\u001b[1;34m()\u001b[0m\n\u001b[1;32m----> 1\u001b[0m \u001b[38;5;28mprint\u001b[39m(\u001b[43mz\u001b[49m)\n",
      "\u001b[1;31mNameError\u001b[0m: name 'z' is not defined"
     ]
    }
   ],
   "source": [
    "print(z)\n"
   ]
  },
  {
   "cell_type": "code",
   "execution_count": 74,
   "id": "883e7d42",
   "metadata": {},
   "outputs": [
    {
     "ename": "FileNotFoundError",
     "evalue": "[Errno 2] No such file or directory: 'mownika.txt'",
     "output_type": "error",
     "traceback": [
      "\u001b[1;31m---------------------------------------------------------------------------\u001b[0m",
      "\u001b[1;31mFileNotFoundError\u001b[0m                         Traceback (most recent call last)",
      "Input \u001b[1;32mIn [74]\u001b[0m, in \u001b[0;36m<cell line: 1>\u001b[1;34m()\u001b[0m\n\u001b[1;32m----> 1\u001b[0m test \u001b[38;5;241m=\u001b[39m \u001b[38;5;28;43mopen\u001b[39;49m\u001b[43m(\u001b[49m\u001b[38;5;124;43m\"\u001b[39;49m\u001b[38;5;124;43mmownika.txt\u001b[39;49m\u001b[38;5;124;43m\"\u001b[39;49m\u001b[43m,\u001b[49m\u001b[43m \u001b[49m\u001b[38;5;124;43m\"\u001b[39;49m\u001b[38;5;124;43mr\u001b[39;49m\u001b[38;5;124;43m\"\u001b[39;49m\u001b[43m)\u001b[49m\n\u001b[0;32m      2\u001b[0m \u001b[38;5;28mprint\u001b[39m(test\u001b[38;5;241m.\u001b[39mread())\n",
      "\u001b[1;31mFileNotFoundError\u001b[0m: [Errno 2] No such file or directory: 'mownika.txt'"
     ]
    }
   ],
   "source": [
    "test = open(\"mownika.txt\", \"r\")\n",
    "print(test.read())"
   ]
  },
  {
   "cell_type": "code",
   "execution_count": null,
   "id": "1c8f7bd6",
   "metadata": {},
   "outputs": [],
   "source": [
    "QUESTION 10"
   ]
  },
  {
   "cell_type": "code",
   "execution_count": 78,
   "id": "dac2b1da",
   "metadata": {},
   "outputs": [
    {
     "name": "stdout",
     "output_type": "stream",
     "text": [
      "Lets have fun! say something\n",
      "Apple\n",
      "frequencies of Apple is : [1, 0, 0, 0, 1, 0, 0, 0, 0, 0, 0, 1, 0, 0, 0, 2, 0, 0, 0, 0, 0, 0, 0, 0, 0, 0]\n"
     ]
    }
   ],
   "source": [
    "print('Lets have fun! say something')\n",
    "a='abcdefghijklmnopqrstuvwxyz'\n",
    "b=input()\n",
    "#b='Mango'\n",
    "c=b.lower()\n",
    "d=0\n",
    "e=[]\n",
    "#print(a[25])\n",
    "while (d<=25):\n",
    "    f=c.count(a[d])\n",
    "    e.append(f)\n",
    "    d = d + 1\n",
    "print('frequencies of ' + b + ' is : '  + str(e))"
   ]
  },
  {
   "cell_type": "code",
   "execution_count": null,
   "id": "42ddb88c",
   "metadata": {},
   "outputs": [],
   "source": []
  }
 ],
 "metadata": {
  "kernelspec": {
   "display_name": "Python 3 (ipykernel)",
   "language": "python",
   "name": "python3"
  },
  "language_info": {
   "codemirror_mode": {
    "name": "ipython",
    "version": 3
   },
   "file_extension": ".py",
   "mimetype": "text/x-python",
   "name": "python",
   "nbconvert_exporter": "python",
   "pygments_lexer": "ipython3",
   "version": "3.9.12"
  }
 },
 "nbformat": 4,
 "nbformat_minor": 5
}
